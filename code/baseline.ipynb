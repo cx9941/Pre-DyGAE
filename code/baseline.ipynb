{
 "cells": [
  {
   "cell_type": "code",
   "execution_count": 1,
   "metadata": {},
   "outputs": [
    {
     "name": "stderr",
     "output_type": "stream",
     "text": [
      "usage: ipykernel_launcher.py [-h] [--data_name DATA_NAME] [--task TASK]\n",
      "                             [--rg_loss_fn RG_LOSS_FN] [--device DEVICE]\n",
      "                             [--train_path TRAIN_PATH] [--test_path TEST_PATH]\n",
      "                             [--eval_path EVAL_PATH] [--mode MODE]\n",
      "                             [--time TIME] [--fix_emb FIX_EMB]\n",
      "                             [--cross_attn CROSS_ATTN] [--gaussian GAUSSIAN]\n",
      "                             [--bias BIAS] [--owner_id OWNER_ID]\n",
      "                             [--rg_activate_fn RG_ACTIVATE_FN]\n",
      "                             [--num_epochs NUM_EPOCHS] [--eval_step EVAL_STEP]\n",
      "                             [--sample_size SAMPLE_SIZE] [--lr LR]\n",
      "                             [--rg_weight RG_WEIGHT] [--lp_weight LP_WEIGHT]\n",
      "                             [--rank_weight RANK_WEIGHT]\n",
      "                             [--con_weight CON_WEIGHT] [--seed SEED] [--k K]\n",
      "                             [--initial_embedding INITIAL_EMBEDDING]\n",
      "ipykernel_launcher.py: error: unrecognized arguments: --ip=127.0.0.1 --stdin=9003 --control=9001 --hb=9000 --Session.signature_scheme=\"hmac-sha256\" --Session.key=b\"0320a634-1bce-4c6f-83bd-d4ee1072ae09\" --shell=9002 --transport=\"tcp\" --iopub=9004\n"
     ]
    },
    {
     "ename": "SystemExit",
     "evalue": "2",
     "output_type": "error",
     "traceback": [
      "An exception has occurred, use %tb to see the full traceback.\n",
      "\u001b[0;31mSystemExit\u001b[0m\u001b[0;31m:\u001b[0m 2\n"
     ]
    },
    {
     "name": "stderr",
     "output_type": "stream",
     "text": [
      "/opt/conda/envs/aaai/lib/python3.8/site-packages/IPython/core/interactiveshell.py:3450: UserWarning: To exit: use 'exit', 'quit', or Ctrl-D.\n",
      "  warn(\"To exit: use 'exit', 'quit', or Ctrl-D.\", stacklevel=1)\n"
     ]
    }
   ],
   "source": [
    "import dgl\n",
    "import numpy as np\n",
    "import torch\n",
    "import torch.nn as nn\n",
    "import tqdm\n",
    "from dgl.nn.pytorch import RelGraphConv\n",
    "from mydataset import JDDataset\n",
    "from args import args\n",
    "from utils import get_subset_g\n",
    "from model import LinkPredict\n",
    "from trainer import Trainer\n",
    "from utils import calc_mrr\n",
    "import logging\n",
    "import torch.nn.functional as F\n",
    "from torchmetrics.regression import TweedieDevianceScore\n",
    "\n",
    "if __name__ == \"__main__\":\n",
    "    data = JDDataset(reverse=False, name=args.data_name,\n",
    "                     raw_dir=f'../data/{args.data_name}/{args.task}', train_path=args.train_path, eval_path=args.eval_path, test_path=args.test_path)\n",
    "    g = data[0]\n",
    "    num_nodes = g.num_nodes()\n",
    "    num_rels = data.num_rels\n",
    "    pos_num_nodes = (g.edges()[0].max() + 1).item()\n",
    "    skill_num_nodes = (g.edges()[1].max() - g.edges()[0].max()).item()\n",
    "\n",
    "    if args.bias == 'yes':\n",
    "        entity2embedding = torch.load(\n",
    "            f'../data/{args.data_name}/{args.task}/entity2embedding.pt')\n",
    "    else:\n",
    "        entity2embedding = None\n",
    "\n",
    "    if args.time == \"yes\":\n",
    "        time_embedding = torch.load(\n",
    "            f'../data/{args.data_name}/{args.task}/time_embedding.pt')\n",
    "    else:\n",
    "        time_embedding = None\n",
    "\n",
    "    rg_loss_fn = {\n",
    "        \"l1\": F.l1_loss,\n",
    "        \"mse\": F.mse_loss,\n",
    "        \"tweedie\": TweedieDevianceScore(1.5)\n",
    "    }\n",
    "\n",
    "    rg_activate_fn = {\n",
    "        \"elu\": nn.ELU(),\n",
    "        \"softplus\": nn.Softplus(),\n",
    "        \"relu\": nn.ReLU(),\n",
    "        \"sigmoid\": nn.Sigmoid(),\n",
    "        \"leakyrelu\": nn.LeakyReLU()\n",
    "    }\n",
    "\n",
    "    model = LinkPredict(num_nodes, pos_num_nodes, skill_num_nodes, num_rels, cross_attn=args.cross_attn, embedding=entity2embedding, time=args.time,\n",
    "                        rg_weight=args.rg_weight, lp_weight=args.lp_weight, rank_weight=args.rank_weight, con_weight=args.con_weight,\n",
    "                        gaussian=args.gaussian, bias=args.bias, initial_embedding=args.initial_embedding,\n",
    "                        rg_loss_fn=rg_loss_fn[args.rg_loss_fn], rg_activate_fn=rg_activate_fn[args.rg_activate_fn]).to(args.device)\n",
    "    for data in ['Dai', 'Fin', 'IT', 'Man']:\n",
    "        pred = torch.load(f'/code/chenxi02/AAAI/data/{data}/dates/STAA/output.pt')\n",
    "        label = torch.load(f'/code/chenxi02/AAAI/data/{data}/dates/7/matrix.pt')\n",
    "        mae = model.calc_metrics(pred, label)\n",
    "        print\n",
    "\n"
   ]
  }
 ],
 "metadata": {
  "kernelspec": {
   "display_name": "Python 3.8.13 ('base')",
   "language": "python",
   "name": "python3"
  },
  "language_info": {
   "codemirror_mode": {
    "name": "ipython",
    "version": 3
   },
   "file_extension": ".py",
   "mimetype": "text/x-python",
   "name": "python",
   "nbconvert_exporter": "python",
   "pygments_lexer": "ipython3",
   "version": "3.8.13"
  },
  "orig_nbformat": 4,
  "vscode": {
   "interpreter": {
    "hash": "d4d1e4263499bec80672ea0156c357c1ee493ec2b1c70f0acce89fc37c4a6abe"
   }
  }
 },
 "nbformat": 4,
 "nbformat_minor": 2
}
